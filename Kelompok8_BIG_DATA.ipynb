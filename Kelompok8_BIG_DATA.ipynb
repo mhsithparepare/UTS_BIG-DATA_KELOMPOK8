{
  "nbformat": 4,
  "nbformat_minor": 0,
  "metadata": {
    "colab": {
      "provenance": []
    },
    "kernelspec": {
      "name": "python3",
      "display_name": "Python 3"
    },
    "language_info": {
      "name": "python"
    }
  },
  "cells": [
    {
      "cell_type": "markdown",
      "source": [
        "# **# KELOMPOK 8 BIG DATA**\n",
        "1. MUH. AL AMIN                  221031026\n",
        "2. GINA LATIFA AKMAL             221031039\n",
        "3. JULISTIO FADJAR ANUGRAH SAO   221031010\n",
        "4. M. CHAERUL GHAZALI            221031059\n",
        "5. HUSAIN JAYLANI HARIYANTO      221031079"
      ],
      "metadata": {
        "id": "IyO3fyg5EfEy"
      }
    }
  ]
}